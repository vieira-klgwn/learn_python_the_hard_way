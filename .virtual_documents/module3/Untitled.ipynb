import numpy as np


import pandas as pd


s = [1, 3, 5, np.nan, 6, 8]


s


dates = pd.date_range("20130101", periods=6)


dates


df = pd.DataFrame(np.random.randn(6, 4), index=dates, columns=list("ABCD"))


df


df2 = pd.DataFrame({
    "A":1.0,
    "B":pd.Timestamp("20130102"),
    "C":pd.Series(1, index= list(range(4)), dtype="float32"),
    "D":np.array([3] * 4, dtype="int32"),
    "E":pd.Categorical(["test", "train", "test", "train"]),
    "F":"foo"
})


df2


df2.dtypes


df.tail()


df.head()


df.index


df.columns


df.to_numpy()


df2.dtypes


df2.to_numpy()


df.describe()


df.T


df.sort_index(axis = 1, ascending=False)


df


df.sort_index(axis=0, ascending=False)


df.sort_values(by="B")


df["A"]


df[0:0]


df[0:1]


df[0:2]





df[0:3]


df['20130102':'20130104']



